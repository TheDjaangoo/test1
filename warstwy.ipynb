{
  "nbformat": 4,
  "nbformat_minor": 0,
  "metadata": {
    "colab": {
      "name": "warstwy.ipynb",
      "version": "0.3.2",
      "provenance": [],
      "collapsed_sections": []
    },
    "kernelspec": {
      "name": "python3",
      "display_name": "Python 3"
    }
  },
  "cells": [
    {
      "metadata": {
        "id": "Ob88zUZsYMZE",
        "colab_type": "code",
        "colab": {}
      },
      "cell_type": "code",
      "source": [
        "import keras\n",
        "from keras.datasets import mnist\n",
        "(x_train, y_train), (x_test, y_test) = mnist.load_data()"
      ],
      "execution_count": 0,
      "outputs": []
    },
    {
      "metadata": {
        "id": "06AqIB3_ijAa",
        "colab_type": "code",
        "colab": {
          "base_uri": "https://localhost:8080/",
          "height": 381
        },
        "outputId": "1a804a5a-569a-4763-9047-dc0aeb183e4b"
      },
      "cell_type": "code",
      "source": [
        "import matplotlib.pyplot as plt\n",
        "\n",
        "image_index = 7777 # You may select anything up to 60,000\n",
        "print(y_train[image_index]) # The label is 8\n",
        "plt.imshow(x_train[image_index], cmap='Greys')"
      ],
      "execution_count": 87,
      "outputs": [
        {
          "output_type": "stream",
          "text": [
            "8\n"
          ],
          "name": "stdout"
        },
        {
          "output_type": "execute_result",
          "data": {
            "text/plain": [
              "<matplotlib.image.AxesImage at 0x7f86678cab38>"
            ]
          },
          "metadata": {
            "tags": []
          },
          "execution_count": 87
        },
        {
          "output_type": "display_data",
          "data": {
            "image/png": "[encoded data removed]",
            "text/plain": [
              "<matplotlib.figure.Figure at 0x7f866998e390>"
            ]
          },
          "metadata": {
            "tags": []
          }
        }
      ]
    },
    {
      "metadata": {
        "id": "KAU90gqXWyx1",
        "colab_type": "code",
        "colab": {
          "base_uri": "https://localhost:8080/",
          "height": 34
        },
        "outputId": "ac04e25c-7a34-425d-e186-876cb7bb6518"
      },
      "cell_type": "code",
      "source": [
        "x_train = x_train.astype('float32')\n",
        "x_test = x_test.astype('float32')\n",
        "x_train /= 255\n",
        "x_test /= 255\n",
        "x_train.shape"
      ],
      "execution_count": 88,
      "outputs": [
        {
          "output_type": "execute_result",
          "data": {
            "text/plain": [
              "(60000, 28, 28)"
            ]
          },
          "metadata": {
            "tags": []
          },
          "execution_count": 88
        }
      ]
    },
    {
      "metadata": {
        "id": "l4v_7ISJXYSz",
        "colab_type": "code",
        "colab": {}
      },
      "cell_type": "code",
      "source": [
        "#x_train = x_train.reshape(60000, 784)\n",
        "#x_test = x_test.reshape(10000, 784)\n",
        "x_train = x_train.reshape(60000, 28,28,1)\n",
        "x_test = x_test.reshape(10000, 28,28,1)"
      ],
      "execution_count": 0,
      "outputs": []
    },
    {
      "metadata": {
        "id": "W9ZvzmkZXdKT",
        "colab_type": "code",
        "colab": {
          "base_uri": "https://localhost:8080/",
          "height": 134
        },
        "outputId": "50cbfb9a-b2a2-4550-be73-062a75660e23"
      },
      "cell_type": "code",
      "source": [
        "from keras.utils import to_categorical\n",
        "y_train = to_categorical(y_train, num_classes=10)\n",
        "y_test = to_categorical(y_test, num_classes=10)\n",
        "y_test"
      ],
      "execution_count": 140,
      "outputs": [
        {
          "output_type": "execute_result",
          "data": {
            "text/plain": [
              "array([[0., 0., 0., ..., 1., 0., 0.],\n",
              "       [0., 0., 1., ..., 0., 0., 0.],\n",
              "       [0., 1., 0., ..., 0., 0., 0.],\n",
              "       ...,\n",
              "       [0., 0., 0., ..., 0., 0., 0.],\n",
              "       [0., 0., 0., ..., 0., 0., 0.],\n",
              "       [0., 0., 0., ..., 0., 0., 0.]], dtype=float32)"
            ]
          },
          "metadata": {
            "tags": []
          },
          "execution_count": 140
        }
      ]
    },
    {
      "metadata": {
        "id": "3-QkskitXjWD",
        "colab_type": "code",
        "colab": {}
      },
      "cell_type": "code",
      "source": [
        "from keras.models import Sequential\n",
        "model = Sequential()"
      ],
      "execution_count": 0,
      "outputs": []
    },
    {
      "metadata": {
        "id": "K7iDO9m0XlXs",
        "colab_type": "code",
        "colab": {}
      },
      "cell_type": "code",
      "source": [
        "from keras.models import Sequential\n",
        "from keras.layers import Dense, Activation,Dropout, Flatten\n",
        "from keras.layers.convolutional import Conv2D\n",
        "model = Sequential()\n",
        "model.add(Conv2D(50,kernel_size=(3,3),activation=\"relu\",input_shape=(28,28,1)))\n",
        "model.add(Flatten())\n",
        "model.add(Dropout(0.3))\n",
        "model.add(Dense(120, activation='sigmoid'))\n",
        "model.add(Dense(60,activation=\"sigmoid\"))\n",
        "\n",
        "model.add(Dense(30,activation=\"relu\"))\n",
        "model.add(Dense(10, activation='softmax'))"
      ],
      "execution_count": 0,
      "outputs": []
    },
    {
      "metadata": {
        "id": "53ebRy68XrYK",
        "colab_type": "code",
        "colab": {
          "base_uri": "https://localhost:8080/",
          "height": 370
        },
        "outputId": "54cce5c3-3778-4bde-cfe0-80f881f1c8a0"
      },
      "cell_type": "code",
      "source": [
        "model.summary()"
      ],
      "execution_count": 133,
      "outputs": [
        {
          "output_type": "stream",
          "text": [
            "_________________________________________________________________\n",
            "Layer (type)                 Output Shape              Param #   \n",
            "=================================================================\n",
            "conv2d_8 (Conv2D)            (None, 26, 26, 50)        500       \n",
            "_________________________________________________________________\n",
            "flatten_3 (Flatten)          (None, 33800)             0         \n",
            "_________________________________________________________________\n",
            "dropout_9 (Dropout)          (None, 33800)             0         \n",
            "_________________________________________________________________\n",
            "dense_54 (Dense)             (None, 120)               4056120   \n",
            "_________________________________________________________________\n",
            "dense_55 (Dense)             (None, 60)                7260      \n",
            "_________________________________________________________________\n",
            "dense_56 (Dense)             (None, 30)                1830      \n",
            "_________________________________________________________________\n",
            "dense_57 (Dense)             (None, 10)                310       \n",
            "=================================================================\n",
            "Total params: 4,066,020\n",
            "Trainable params: 4,066,020\n",
            "Non-trainable params: 0\n",
            "_________________________________________________________________\n"
          ],
          "name": "stdout"
        }
      ]
    },
    {
      "metadata": {
        "id": "I_ElAdQvXsSb",
        "colab_type": "code",
        "colab": {}
      },
      "cell_type": "code",
      "source": [
        "from keras.callbacks import EarlyStopping, ModelCheckpoint\n",
        "model.compile(loss='categorical_crossentropy',\n",
        "              optimizer='adam',\n",
        "              metrics = ['accuracy'])\n",
        "# Set callback functions to early stop training and save the best model so far\n",
        "callbacks = [EarlyStopping(monitor='val_loss', patience=2),\n",
        "             ModelCheckpoint(filepath='best_model.h5', monitor='val_loss', save_best_only=True)]"
      ],
      "execution_count": 0,
      "outputs": []
    },
    {
      "metadata": {
        "id": "ssMMwyNQX03V",
        "colab_type": "code",
        "colab": {
          "base_uri": "https://localhost:8080/",
          "height": 353
        },
        "outputId": "bcc11209-092c-4fa1-92db-8fb3c47e1f66"
      },
      "cell_type": "code",
      "source": [
        "model.fit(x_train, y_train, batch_size=200, epochs=10,callbacks=s,validation_split=0.1,verbose=1,shuffle=1)"
      ],
      "execution_count": 135,
      "outputs": [
        {
          "output_type": "stream",
          "text": [
            "Train on 54000 samples, validate on 6000 samples\n",
            "Epoch 1/10\n",
            "54000/54000 [==============================] - 93s 2ms/step - loss: 0.6719 - acc: 0.8409 - val_loss: 0.1546 - val_acc: 0.9640\n",
            "Epoch 2/10\n",
            "54000/54000 [==============================] - 92s 2ms/step - loss: 0.1246 - acc: 0.9677 - val_loss: 0.0807 - val_acc: 0.9793\n",
            "Epoch 3/10\n",
            "54000/54000 [==============================] - 91s 2ms/step - loss: 0.0664 - acc: 0.9819 - val_loss: 0.0619 - val_acc: 0.9833\n",
            "Epoch 4/10\n",
            "54000/54000 [==============================] - 91s 2ms/step - loss: 0.0406 - acc: 0.9889 - val_loss: 0.0573 - val_acc: 0.9837\n",
            "Epoch 5/10\n",
            "54000/54000 [==============================] - 90s 2ms/step - loss: 0.0279 - acc: 0.9928 - val_loss: 0.0512 - val_acc: 0.9852\n",
            "Epoch 6/10\n",
            "54000/54000 [==============================] - 88s 2ms/step - loss: 0.0177 - acc: 0.9955 - val_loss: 0.0585 - val_acc: 0.9827\n",
            "Epoch 7/10\n",
            "54000/54000 [==============================] - 88s 2ms/step - loss: 0.0132 - acc: 0.9970 - val_loss: 0.0491 - val_acc: 0.9867\n",
            "Epoch 8/10\n",
            "54000/54000 [==============================] - 89s 2ms/step - loss: 0.0085 - acc: 0.9981 - val_loss: 0.0511 - val_acc: 0.9865\n",
            "Epoch 9/10\n",
            "54000/54000 [==============================] - 89s 2ms/step - loss: 0.0055 - acc: 0.9989 - val_loss: 0.0559 - val_acc: 0.9857\n"
          ],
          "name": "stdout"
        },
        {
          "output_type": "execute_result",
          "data": {
            "text/plain": [
              "<keras.callbacks.History at 0x7f8665a74c88>"
            ]
          },
          "metadata": {
            "tags": []
          },
          "execution_count": 135
        }
      ]
    },
    {
      "metadata": {
        "id": "B_EbT1C3X8zL",
        "colab_type": "code",
        "colab": {
          "base_uri": "https://localhost:8080/",
          "height": 50
        },
        "outputId": "dc2c9e4c-85fd-4af8-e604-1cdcd86c3336"
      },
      "cell_type": "code",
      "source": [
        "model.evaluate(x_test, y_test)"
      ],
      "execution_count": 136,
      "outputs": [
        {
          "output_type": "stream",
          "text": [
            "10000/10000 [==============================] - 5s 467us/step\n"
          ],
          "name": "stdout"
        },
        {
          "output_type": "execute_result",
          "data": {
            "text/plain": [
              "[0.05731273760823533, 0.9832]"
            ]
          },
          "metadata": {
            "tags": []
          },
          "execution_count": 136
        }
      ]
    }
  ]
}